{
  "nbformat": 4,
  "nbformat_minor": 0,
  "metadata": {
    "colab": {
      "name": "Lab1.ipynb",
      "provenance": [],
      "authorship_tag": "ABX9TyNI3oNjuf9rNqjw2CF+RupR",
      "include_colab_link": true
    },
    "kernelspec": {
      "name": "python3",
      "display_name": "Python 3"
    },
    "language_info": {
      "name": "python"
    }
  },
  "cells": [
    {
      "cell_type": "markdown",
      "metadata": {
        "id": "view-in-github",
        "colab_type": "text"
      },
      "source": [
        "<a href=\"https://colab.research.google.com/github/kenn212/CPEN-21A-ECE-2-3/blob/main/Lab1.ipynb\" target=\"_parent\"><img src=\"https://colab.research.google.com/assets/colab-badge.svg\" alt=\"Open In Colab\"/></a>"
      ]
    },
    {
      "cell_type": "markdown",
      "metadata": {
        "id": "gJ653OjTmXjz"
      },
      "source": [
        "#Laboratory 1"
      ]
    },
    {
      "cell_type": "markdown",
      "metadata": {
        "id": "OfWrMCS7hahp"
      },
      "source": [
        "##No. 1"
      ]
    },
    {
      "cell_type": "code",
      "metadata": {
        "colab": {
          "base_uri": "https://localhost:8080/"
        },
        "id": "j_mqS64whf8x",
        "outputId": "9277e214-4a8f-402b-8f24-5bdf07391117"
      },
      "source": [
        "x = \"Welcome to Python Programming\"\n",
        "print(x)"
      ],
      "execution_count": 3,
      "outputs": [
        {
          "output_type": "stream",
          "name": "stdout",
          "text": [
            "Welcome to Python Programming\n"
          ]
        }
      ]
    },
    {
      "cell_type": "markdown",
      "metadata": {
        "id": "AAwfEviwiFGi"
      },
      "source": [
        "##No. 2"
      ]
    },
    {
      "cell_type": "code",
      "metadata": {
        "colab": {
          "base_uri": "https://localhost:8080/"
        },
        "id": "Ph56BG_akpdg",
        "outputId": "67d673a3-531e-46d5-d2d1-65adfcc67a0b"
      },
      "source": [
        "a = \"Name: Kenn Carlo Verra\"\n",
        "b = \"Address: BLK 33 LOT 41 Bella Vista Subd.\"\n",
        "c = \"Age: 20\"\n",
        "print(a)\n",
        "print(b)\n",
        "print(c)"
      ],
      "execution_count": 14,
      "outputs": [
        {
          "output_type": "stream",
          "name": "stdout",
          "text": [
            "Name: Kenn Carlo Verra\n",
            "Address: BLK 33 LOT 41 Bella Vista Subd.\n",
            "Age: 20\n"
          ]
        }
      ]
    }
  ]
}