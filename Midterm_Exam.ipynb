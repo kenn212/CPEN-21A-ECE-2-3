{
  "nbformat": 4,
  "nbformat_minor": 0,
  "metadata": {
    "colab": {
      "name": "Midterm Exam.ipynb",
      "provenance": [],
      "authorship_tag": "ABX9TyMYDwKNk7QSb1g9Ryfl8xz8",
      "include_colab_link": true
    },
    "kernelspec": {
      "name": "python3",
      "display_name": "Python 3"
    },
    "language_info": {
      "name": "python"
    }
  },
  "cells": [
    {
      "cell_type": "markdown",
      "metadata": {
        "id": "view-in-github",
        "colab_type": "text"
      },
      "source": [
        "<a href=\"https://colab.research.google.com/github/kenn212/CPEN-21A-ECE-2-3/blob/main/Midterm_Exam.ipynb\" target=\"_parent\"><img src=\"https://colab.research.google.com/assets/colab-badge.svg\" alt=\"Open In Colab\"/></a>"
      ]
    },
    {
      "cell_type": "markdown",
      "metadata": {
        "id": "IrlSY6KttKDO"
      },
      "source": [
        "##Problem Statement 1"
      ]
    },
    {
      "cell_type": "code",
      "metadata": {
        "colab": {
          "base_uri": "https://localhost:8080/"
        },
        "id": "H7SMOr2QtRwp",
        "outputId": "a8547cfc-5293-4d2f-a4f9-0ed12e6a3e40"
      },
      "source": [
        "a = \"Full Name: Kenn Carlo L. Verra\"\n",
        "b = \"Student Number: 202015090\"\n",
        "c = \"Age: 20\"\n",
        "d = \"Birthday: June 21, 2001\"\n",
        "e = \"Address: Blk 33 Lot 41 Bella Vista Gen. Trias, Cavite\"\n",
        "f = \"Course: BSECE 2-3\"\n",
        "g = \"Last Sem GWA: 1.66\"\n",
        "\n",
        "print(a)\n",
        "print(b)\n",
        "print(c)\n",
        "print(d)\n",
        "print(e)\n",
        "print(f)\n",
        "print(g)"
      ],
      "execution_count": 3,
      "outputs": [
        {
          "output_type": "stream",
          "name": "stdout",
          "text": [
            "Full Name: Kenn Carlo L. Verra\n",
            "Student Number: 202015090\n",
            "Age: 20\n",
            "Birthday: June 21, 2001\n",
            "Address: Blk 33 Lot 41 Bella Vista Gen. Trias, Cavite\n",
            "Course: BSECE 2-3\n",
            "Last Sem GWA: 1.66\n"
          ]
        }
      ]
    },
    {
      "cell_type": "markdown",
      "metadata": {
        "id": "1KNaMkxFvx_R"
      },
      "source": [
        "##Problem Statement 2"
      ]
    },
    {
      "cell_type": "code",
      "metadata": {
        "colab": {
          "base_uri": "https://localhost:8080/"
        },
        "id": "ImS9HRcEv5Bc",
        "outputId": "f44d0fd4-41d2-445e-c452-7dd98e921838"
      },
      "source": [
        "n = 4\n",
        "answ = \"Y\"\n",
        "\n",
        "print(2<n and n<6) # a\n",
        "print(2<n or n==6) # b\n",
        "print(not(2<n or n==6)) # c\n",
        "print(not(n<6)) # d\n",
        "print(answ == \"Y\" or answ == \"y\") # e\n",
        "print(answ == \"Y\" and answ == \"y\") # f\n",
        "print(not(answ == \"y\")) # g\n",
        "print((2<n and n == 5+1) or answ == \"No\") # h\n",
        "print((n == 2 and n == 7) or answ == \"Y\") # i\n",
        "print(n == 2 and (n == 7 or answ == \"Y\")) # j"
      ],
      "execution_count": 31,
      "outputs": [
        {
          "output_type": "stream",
          "name": "stdout",
          "text": [
            "True\n",
            "True\n",
            "False\n",
            "False\n",
            "True\n",
            "False\n",
            "True\n",
            "False\n",
            "True\n",
            "False\n"
          ]
        }
      ]
    },
    {
      "cell_type": "markdown",
      "metadata": {
        "id": "3xItt7YK1Q_l"
      },
      "source": [
        "##Problem Statement 3"
      ]
    },
    {
      "cell_type": "code",
      "metadata": {
        "colab": {
          "base_uri": "https://localhost:8080/"
        },
        "id": "z99pnZfk1UUQ",
        "outputId": "bb007401-4d60-4397-e662-061b90cd5d26"
      },
      "source": [
        "x = 2\n",
        "y = -3\n",
        "w = 7\n",
        "z = -10\n",
        "\n",
        "print(x/y) # a\n",
        "print(w/y/x) # b\n",
        "print(z/y%x) # c\n",
        "print(x%-y*w) # d\n",
        "print(x%y) # e\n",
        "print(z%w-y/x*5+5) # f\n",
        "print(9-x%(2+y)) # g\n",
        "print(z//w) # h\n",
        "print((2+y)**2) # i\n",
        "print(w/x*2) # j"
      ],
      "execution_count": 43,
      "outputs": [
        {
          "output_type": "stream",
          "name": "stdout",
          "text": [
            "-0.6666666666666666\n",
            "-1.1666666666666667\n",
            "1.3333333333333335\n",
            "14\n",
            "-1\n",
            "16.5\n",
            "9\n",
            "-2\n",
            "1\n",
            "7.0\n"
          ]
        }
      ]
    }
  ]
}