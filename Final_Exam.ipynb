{
  "nbformat": 4,
  "nbformat_minor": 0,
  "metadata": {
    "colab": {
      "name": "Final Exam.ipynb",
      "provenance": [],
      "authorship_tag": "ABX9TyPMyV+CoIzFz+YoP6orkaRH",
      "include_colab_link": true
    },
    "kernelspec": {
      "name": "python3",
      "display_name": "Python 3"
    },
    "language_info": {
      "name": "python"
    }
  },
  "cells": [
    {
      "cell_type": "markdown",
      "metadata": {
        "id": "view-in-github",
        "colab_type": "text"
      },
      "source": [
        "<a href=\"https://colab.research.google.com/github/kenn212/CPEN-21A-ECE-2-3/blob/main/Final_Exam.ipynb\" target=\"_parent\"><img src=\"https://colab.research.google.com/assets/colab-badge.svg\" alt=\"Open In Colab\"/></a>"
      ]
    },
    {
      "cell_type": "markdown",
      "source": [
        "#\"Final Exam\""
      ],
      "metadata": {
        "id": "N0S_ss1ffZAu"
      }
    },
    {
      "cell_type": "markdown",
      "source": [
        "##Problem Statement 1 using FOR LOOP Statement"
      ],
      "metadata": {
        "id": "jsXsJNOJ1BYS"
      }
    },
    {
      "cell_type": "code",
      "source": [
        "sum = 0\n",
        "for x in range(1,11):\n",
        "  sum = sum + x\n",
        "print(sum,\"< 5\")"
      ],
      "metadata": {
        "colab": {
          "base_uri": "https://localhost:8080/"
        },
        "id": "-DR-tpxy6pDm",
        "outputId": "35849bd3-b541-40f6-ea5d-43c5a6eb8bab"
      },
      "execution_count": 1,
      "outputs": [
        {
          "output_type": "stream",
          "name": "stdout",
          "text": [
            "55 < 5\n"
          ]
        }
      ]
    },
    {
      "cell_type": "markdown",
      "source": [
        "##Problem Statement 2 using WHILE LOOP Statement"
      ],
      "metadata": {
        "id": "I8-1Vl2x7di1"
      }
    },
    {
      "cell_type": "code",
      "source": [
        "number1 = int(input(\"Enter a number:\"))\n",
        "number2 = int(input(\"Enter a number:\"))\n",
        "number3 = int(input(\"Enter a number:\"))\n",
        "number4 = int(input(\"Enter a number:\"))\n",
        "number5 = int(input(\"Enter a number:\"))\n",
        "\n",
        "i = 0\n",
        "firstnumber = int(number1)\n",
        "fifthnumber = int(number5)\n",
        "while i < 5:\n",
        "  sum = firstnumber + fifthnumber\n",
        "  print(\"The sum of first input and last input =\", sum)\n",
        "  break"
      ],
      "metadata": {
        "id": "K7qUdLboqaqu",
        "colab": {
          "base_uri": "https://localhost:8080/"
        },
        "outputId": "b9ad2b7a-6dd3-4700-a290-812a9b896190"
      },
      "execution_count": 2,
      "outputs": [
        {
          "output_type": "stream",
          "name": "stdout",
          "text": [
            "Enter a number:500\n",
            "Enter a number:45\n",
            "Enter a number:346\n",
            "Enter a number:678\n",
            "Enter a number:90\n",
            "The sum of first input and last input = 590\n"
          ]
        }
      ]
    },
    {
      "cell_type": "markdown",
      "source": [
        "##Problem Statement 3 using Nested-If-Else Statement"
      ],
      "metadata": {
        "id": "Cl2tFDVQ9MOo"
      }
    },
    {
      "cell_type": "code",
      "source": [
        "grade = float(input(\"Enter your grade:\"))\n",
        "\n",
        "if grade >= 90 and grade <= 100:\n",
        "  print(\"Grade: A\")\n",
        "elif grade >= 80 and grade <= 89:\n",
        "  print(\"Grade: B\")\n",
        "elif grade >= 70 and grade <= 79:\n",
        "  print(\"Grade: C\")\n",
        "elif grade >= 60 and grade <= 69:\n",
        "  print(\"Grade: D\")\n",
        "elif grade < 60:\n",
        "  print(\"Grade: F\")\n",
        "else:\n",
        "  print(\"Enter a value between 0 - 100\")"
      ],
      "metadata": {
        "colab": {
          "base_uri": "https://localhost:8080/"
        },
        "id": "wdL3mJFe9SeR",
        "outputId": "2f85f918-812e-466e-d869-1a114c3c1b6a"
      },
      "execution_count": 110,
      "outputs": [
        {
          "output_type": "stream",
          "name": "stdout",
          "text": [
            "Enter your grade:95\n",
            "Grade: A\n"
          ]
        }
      ]
    }
  ]
}